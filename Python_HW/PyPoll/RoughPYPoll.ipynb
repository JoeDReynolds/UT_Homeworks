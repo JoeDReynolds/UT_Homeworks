{
 "cells": [
  {
   "cell_type": "code",
   "execution_count": 18,
   "metadata": {},
   "outputs": [],
   "source": [
    "import os\n",
    "import csv\n",
    "import numpy as np\n",
    "from collections import Counter"
   ]
  },
  {
   "cell_type": "code",
   "execution_count": 19,
   "metadata": {},
   "outputs": [],
   "source": [
    "file = \"Resources/election_data.csv\""
   ]
  },
  {
   "cell_type": "code",
   "execution_count": 20,
   "metadata": {},
   "outputs": [],
   "source": [
    "candidate = []\n",
    "\n",
    "with open(file, newline = '') as csvfile:\n",
    "    csvreader = csv.reader(csvfile, delimiter = ',')\n",
    "    csv_header = next(csvreader)\n",
    "    for row in csvreader:\n",
    "        candidate.append(row[2])"
   ]
  },
  {
   "cell_type": "code",
   "execution_count": 4,
   "metadata": {},
   "outputs": [],
   "source": [
    "total_votes = len(candidate)"
   ]
  },
  {
   "cell_type": "code",
   "execution_count": 5,
   "metadata": {},
   "outputs": [],
   "source": [
    "unique_candidates = list(set(candidate))"
   ]
  },
  {
   "cell_type": "code",
   "execution_count": 6,
   "metadata": {},
   "outputs": [],
   "source": [
    "lib_cand = (Counter(candidate)).keys()\n",
    "lib_votes = (Counter(candidate)).values()"
   ]
  },
  {
   "cell_type": "code",
   "execution_count": 7,
   "metadata": {},
   "outputs": [],
   "source": [
    "cand = list(lib_cand)\n",
    "votes= list(lib_votes)"
   ]
  },
  {
   "cell_type": "code",
   "execution_count": 8,
   "metadata": {},
   "outputs": [],
   "source": [
    "perc_vote = [(x / total_votes)*100 for x in votes]\n",
    "\n",
    "rd_per_vote = [\"%.3f\" % x for x in perc_vote]\n",
    "hi_vote = max(votes)\n",
    "win_index = votes.index(hi_vote)\n",
    "winner = cand[win_index]"
   ]
  },
  {
   "cell_type": "code",
   "execution_count": 9,
   "metadata": {},
   "outputs": [],
   "source": [
    "roster = zip(cand, votes, rd_per_vote)"
   ]
  },
  {
   "cell_type": "code",
   "execution_count": 10,
   "metadata": {},
   "outputs": [],
   "source": [
    "output_file = os.path.join(\"output.csv\")\n",
    "\n",
    "with open(output_file, \"w\", newline=\"\") as datafile:\n",
    "    writer = csv.writer(datafile)\n",
    "    writer.writerow([\"Candidate\", \"Votes\", \"% of Vote\"])\n",
    "    writer.writerows(roster)"
   ]
  },
  {
   "cell_type": "code",
   "execution_count": 11,
   "metadata": {},
   "outputs": [],
   "source": [
    "file2 = \"../PyPoll/output.csv\""
   ]
  },
  {
   "cell_type": "code",
   "execution_count": 12,
   "metadata": {},
   "outputs": [
    {
     "name": "stdout",
     "output_type": "stream",
     "text": [
      "Election Results\n",
      "-------------------------\n",
      "Total Votes: 3521001\n",
      "-------------------------\n",
      "Khan: 63.000% (2218231)\n",
      "Correy: 20.000% (704200)\n",
      "Li: 14.000% (492940)\n",
      "O'Tooley: 3.000% (105630)\n",
      "-------------------------\n",
      "Winner: Khan\n",
      "-------------------------\n"
     ]
    }
   ],
   "source": [
    "print(\"Election Results\")\n",
    "print(\"-------------------------\")\n",
    "print(\"Total Votes: \" + str(total_votes))\n",
    "print(\"-------------------------\")\n",
    "\n",
    "\n",
    "with open(file2, newline = '') as csvfile:\n",
    "    csvreader = csv.reader(csvfile, delimiter = ',')\n",
    "    csv_header = next(csvreader)\n",
    "    for row in csvreader:\n",
    "        print(str(row[0]) + \": \" + str(row[2]) +\"% (\" + str(row[1]) +\")\" )\n",
    "    \n",
    "print(\"-------------------------\")\n",
    "print(\"Winner: \" + winner)\n",
    "print(\"-------------------------\")"
   ]
  },
  {
   "cell_type": "code",
   "execution_count": 14,
   "metadata": {},
   "outputs": [],
   "source": [
    "f = open(\"PYpoll.txt\", 'w', newline =\"\")\n",
    "f.write(\"Election Results \\n\")\n",
    "f.write(\"------------------------- \\n\")\n",
    "f.write(\"Total Votes: \" + str(total_votes) + '\\n')\n",
    "f.write(\"-------------------------\" + '\\n')\n",
    "\n",
    "\n",
    "with open(file2, newline = '') as csvfile:\n",
    "    csvreader = csv.reader(csvfile, delimiter = ',')\n",
    "    csv_header = next(csvreader)\n",
    "    for row in csvreader:\n",
    "        f.write(str(row[0]) + \": \" + str(row[2]) +\"% (\" + str(row[1]) +\")\\n\" )\n",
    "    \n",
    "f.write(\"-------------------------\\n\")\n",
    "f.write(\"Winner: \" + winner + '\\n')\n",
    "f.write(\"-------------------------\\n\")\n",
    "f.close()"
   ]
  },
  {
   "cell_type": "code",
   "execution_count": null,
   "metadata": {},
   "outputs": [],
   "source": []
  }
 ],
 "metadata": {
  "kernelspec": {
   "display_name": "Python 3",
   "language": "python",
   "name": "python3"
  },
  "language_info": {
   "codemirror_mode": {
    "name": "ipython",
    "version": 3
   },
   "file_extension": ".py",
   "mimetype": "text/x-python",
   "name": "python",
   "nbconvert_exporter": "python",
   "pygments_lexer": "ipython3",
   "version": "3.6.5"
  }
 },
 "nbformat": 4,
 "nbformat_minor": 2
}
