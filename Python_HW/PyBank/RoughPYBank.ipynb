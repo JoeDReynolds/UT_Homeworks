{
 "cells": [
  {
   "cell_type": "code",
   "execution_count": 13,
   "metadata": {},
   "outputs": [],
   "source": [
    "import os\n",
    "import csv\n",
    "import numpy as np"
   ]
  },
  {
   "cell_type": "code",
   "execution_count": 16,
   "metadata": {},
   "outputs": [],
   "source": [
    "file = \"Resources/budget_data.csv\""
   ]
  },
  {
   "cell_type": "code",
   "execution_count": 17,
   "metadata": {},
   "outputs": [],
   "source": [
    "month = []\n",
    "profit = []\n",
    "\n",
    "\n",
    "with open(file, newline = '') as csvfile:\n",
    "    csvreader = csv.reader(csvfile, delimiter = ',')\n",
    "    csv_header = next(csvreader)\n",
    "    for row in csvreader:\n",
    "        month.append(row[0])\n",
    "        profit.append(row[1])\n",
    "month_count = len(month)\n",
    "int_profit = list(map(int, profit))\n",
    "sum_profit = sum(int_profit)\n"
   ]
  },
  {
   "cell_type": "code",
   "execution_count": 18,
   "metadata": {},
   "outputs": [],
   "source": [
    "prof_dif = list(np.diff(int_profit))"
   ]
  },
  {
   "cell_type": "code",
   "execution_count": 19,
   "metadata": {},
   "outputs": [],
   "source": [
    "avg_prof_dif = sum(prof_dif)/len(prof_dif)\n",
    "rd_av_prof_dif = (\"%.2f\" % avg_prof_dif)\n",
    "big_inc = max(prof_dif)\n",
    "big_dec = min(prof_dif)"
   ]
  },
  {
   "cell_type": "code",
   "execution_count": 20,
   "metadata": {},
   "outputs": [],
   "source": [
    "inc_ind = prof_dif.index(big_inc)\n",
    "dec_ind = prof_dif.index(big_dec)\n",
    "\n",
    "month_inc = month[inc_ind + 1]\n",
    "month_dec = month[dec_ind + 1]"
   ]
  },
  {
   "cell_type": "code",
   "execution_count": 21,
   "metadata": {},
   "outputs": [
    {
     "name": "stdout",
     "output_type": "stream",
     "text": [
      "Financial Analysis\n",
      "----------------------------\n",
      "Total Months: 86\n",
      "Total: $38382578\n",
      "Average Change: $-2315.12\n",
      "Greatest Increase in Profits Feb-12 ($1926159)\n",
      "Greatest Decrease in Profits Sep-13 ($-2196167)\n"
     ]
    }
   ],
   "source": [
    "print(\"Financial Analysis\")\n",
    "print(\"----------------------------\")\n",
    "print(\"Total Months: \" + str(month_count))\n",
    "print(\"Total: $\" + str(sum_profit))\n",
    "print(\"Average Change: $\" + str(rd_av_prof_dif))\n",
    "print(\"Greatest Increase in Profits \" + str(month_inc) + \" ($\" + str(big_inc) + ')')\n",
    "print(\"Greatest Decrease in Profits \" + str(month_dec) + \" ($\" + str(big_dec) + ')')"
   ]
  },
  {
   "cell_type": "code",
   "execution_count": 12,
   "metadata": {},
   "outputs": [],
   "source": [
    "f = open(\"PYbank.txt\", 'w', newline =\"\")\n",
    "f.write(\"Financial Analysis\\n\")\n",
    "f.write(\"----------------------------\\n\")\n",
    "f.write(\"Total Months: \" + str(month_count) + \"\\n\")\n",
    "f.write(\"Total: $\" + str(sum_profit) + '\\n')\n",
    "f.write(\"Average Change: $\" + str(rd_av_prof_dif) + '\\n')\n",
    "f.write(\"Greatest Increase in Profits \" + str(month_inc) + \" ($\" + str(big_inc) + ')' + '\\n')\n",
    "f.write(\"Greatest Decrease in Profits \" + str(month_dec) + \" ($\" + str(big_dec) + ')' + '\\n')\n",
    "f.close()"
   ]
  },
  {
   "cell_type": "code",
   "execution_count": null,
   "metadata": {},
   "outputs": [],
   "source": []
  }
 ],
 "metadata": {
  "kernelspec": {
   "display_name": "Python 3",
   "language": "python",
   "name": "python3"
  },
  "language_info": {
   "codemirror_mode": {
    "name": "ipython",
    "version": 3
   },
   "file_extension": ".py",
   "mimetype": "text/x-python",
   "name": "python",
   "nbconvert_exporter": "python",
   "pygments_lexer": "ipython3",
   "version": "3.6.5"
  }
 },
 "nbformat": 4,
 "nbformat_minor": 2
}
